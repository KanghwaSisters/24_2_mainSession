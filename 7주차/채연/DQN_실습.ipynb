{
  "nbformat": 4,
  "nbformat_minor": 0,
  "metadata": {
    "colab": {
      "provenance": [],
      "gpuType": "T4",
      "toc_visible": true
    },
    "kernelspec": {
      "name": "python3",
      "display_name": "Python 3"
    },
    "language_info": {
      "name": "python"
    },
    "accelerator": "GPU"
  },
  "cells": [
    {
      "cell_type": "markdown",
      "source": [
        "## 주니어"
      ],
      "metadata": {
        "id": "ByorAZi-42Eu"
      }
    },
    {
      "cell_type": "markdown",
      "source": [
        "1. 레버 환경 만들기  \n",
        "2. 카트폴 예제 -- 속도 개선, 학습 가능하게 만들기\n",
        "3. 매직 넘버 줄이기\n",
        "4. 중간 중간 디버깅하면서 가기(구현 단위 별로 테스트)"
      ],
      "metadata": {
        "id": "7Jfvc4lq5wgz"
      }
    },
    {
      "cell_type": "markdown",
      "source": [
        "### 1. 레버 환경 만들기"
      ],
      "metadata": {
        "id": "J8NzcPDf66x4"
      }
    },
    {
      "cell_type": "markdown",
      "source": [
        "3개의 레버가 있다.  \n",
        "- 1번 레버를 당겼을 때 바나나가 떨어질 확률이 0.7, 아무 것도 떨어지지 않을 확률이 0.3  \n",
        "- 2번 레버를 당겼을 때 바나나가 떨어질 확률이 0.1, 상한 바나나 껍질만 떨어질 확률이 0.8, 아무 것도 떨어지지 않을 확률이 0.1  \n",
        "- 3번 레버를 당겼을 때 상한 바나나 껍질만 떨어질 확률이 0.5, 아무 것도 떨어지지 않을 확률이 0.5  \n",
        "\n"
      ],
      "metadata": {
        "id": "YIBM-0JC6-b-"
      }
    },
    {
      "cell_type": "markdown",
      "source": [
        "1. 상태를 표현하는 방법   \n",
        "2. 보상 구조 설계  \n",
        "3. 한 번 행동 한 후 초기화하는 걸 전제    \n",
        "4. 환경 로직 설계"
      ],
      "metadata": {
        "id": "9-Es7EwE8tqc"
      }
    },
    {
      "cell_type": "code",
      "source": [
        "import numpy as np\n",
        "import random\n",
        "import matplotlib.pyplot as plt\n",
        "import torch\n",
        "import torch.nn as nn\n",
        "import torch.optim as optim\n",
        "import torch.nn.functional as F\n",
        "from collections import deque"
      ],
      "metadata": {
        "id": "-Le2bG800Ulq"
      },
      "execution_count": null,
      "outputs": []
    },
    {
      "cell_type": "code",
      "source": [
        "class LeverEnv:\n",
        "    def __init__(self):\n",
        "        # 상태표현\n",
        "        self.BANANA = [1,0,0] # 바나나\n",
        "        self.NOTHING = [0,1,0] # 아무 것도 x\n",
        "        self.ROTTEN = [0,0,1] # 상한 바나나\n",
        "\n",
        "        # 상태와 행동의 크기 정의\n",
        "        self.state_size = len(self.BANANA)  # 상태 벡터의 크기\n",
        "        self.action_size = 3                # 가능한 행동의 개수\n",
        "\n",
        "    def step(self, action):\n",
        "        # action에 맞게 next_state가 변화\n",
        "        done = True\n",
        "\n",
        "        if action == 1:\n",
        "            next_state, reward = self.pull_lever1()\n",
        "        elif action == 2:\n",
        "            next_state, reward = self.pull_lever2()\n",
        "        elif action == 3:\n",
        "            next_state, reward = self.pull_lever3()\n",
        "        else:\n",
        "            # 1,2,3이 아닌 값이 들어가서 오류 발생하는 문제 때문에..\n",
        "            # 기본값 설정 (예: 에러 방지용으로 보상과 상태를 0으로 설정) // 이렇게 해도 되는지..?\n",
        "            next_state = [0] * self.state_size  # 기본 상태\n",
        "            reward = 0  # 기본 보상\n",
        "        return next_state, reward, done\n",
        "\n",
        "    def reset(self):\n",
        "        # 초기화\n",
        "        self.next_state = np.zeros(self.state_size)\n",
        "        return self.next_state\n",
        "\n",
        "    def render(self):\n",
        "        if (self.next_state == self.BANANA).all(): # batch에서 난 오류 해결\n",
        "            print(\"바나나 획득!\")\n",
        "        elif (self.next_state == self.NOTHING).all():\n",
        "            print(\"아무 것도 없음.\")\n",
        "        elif (self.next_state == self.ROTTEN).all():\n",
        "            print(\"상한 바나나 껍질...\")\n",
        "\n",
        "    def pull_lever1(self):\n",
        "        rand = np.random.rand()\n",
        "        if rand < 0.7:\n",
        "            next_state = self.BANANA # 바나나\n",
        "            reward = 1\n",
        "        else:\n",
        "            next_state = self.NOTHING # 아무 것도 X\n",
        "            reward = 0\n",
        "        return next_state, reward\n",
        "\n",
        "    def pull_lever2(self):\n",
        "        rand = np.random.rand()\n",
        "        if rand < 0.1:\n",
        "            next_state = self.NOTHING  # 아무 것도 X\n",
        "            reward = 0\n",
        "        elif rand < 0.8:\n",
        "            next_state = self.ROTTEN  # 상한 바나나\n",
        "            reward = -1\n",
        "        else:\n",
        "            next_state = self.BANANA  # 바나나\n",
        "            reward = 1\n",
        "        return next_state, reward\n",
        "\n",
        "    def pull_lever3(self):\n",
        "        rand = np.random.rand()\n",
        "        if rand < 0.5:\n",
        "            next_state = self.NOTHING # 아무 것도 X\n",
        "            reward = 0\n",
        "        else :\n",
        "            next_state = self.ROTTEN # 상한 바나나\n",
        "            reward = -1\n",
        "        return next_state, reward"
      ],
      "metadata": {
        "id": "xr5hwLke43Wr"
      },
      "execution_count": null,
      "outputs": []
    },
    {
      "cell_type": "markdown",
      "source": [
        "## 과제\n",
        "1. 완성해오기(설명가능한 상태로 ipynb 파일 구성)    \n",
        "2. 알파제로 구조 공부해오기(전원)  \n",
        "3. 자기 코드 규칙 정리해오기"
      ],
      "metadata": {
        "id": "WyHQdX1W91iN"
      }
    },
    {
      "cell_type": "code",
      "source": [
        "import os\n",
        "import sys\n",
        "import gym\n",
        "import pylab\n",
        "import random\n",
        "import numpy as np\n",
        "from collections import deque\n",
        "import random\n",
        "import torch\n",
        "import torch.nn as nn\n",
        "import torch.optim as optim\n",
        "import torch.nn.functional as F\n",
        "import matplotlib.pyplot as plt"
      ],
      "metadata": {
        "id": "QtMK1wV5-VE3"
      },
      "execution_count": null,
      "outputs": []
    },
    {
      "cell_type": "code",
      "source": [
        "# DQN 인공신경망\n",
        "class DQN(nn.Module):\n",
        "    def __init__(self, in_features, out_features):\n",
        "        super(DQN, self).__init__()\n",
        "        self.fc1 = nn.Linear(in_features, 24)\n",
        "        self.fc2 = nn.Linear(24, 24)\n",
        "        self.fc_out = nn.Linear(24, out_features)\n",
        "\n",
        "    def forward(self, x):\n",
        "        x = torch.relu(self.fc1(x))\n",
        "        x = torch.relu(self.fc2(x))\n",
        "        q = self.fc_out(x)\n",
        "        return q"
      ],
      "metadata": {
        "id": "CENjeZlv-1To"
      },
      "execution_count": null,
      "outputs": []
    },
    {
      "cell_type": "code",
      "source": [
        "# 카트폴 예제에서의 DQN 에이전트\n",
        "class DQNAgent:\n",
        "    def __init__(self, state_size, action_size):\n",
        "        self.render = False\n",
        "        # 상태와 행동의 크기 정의\n",
        "        self.action_size = action_size\n",
        "        self.state_size = state_size\n",
        "\n",
        "        # DQN 하이퍼파라미터\n",
        "        self.discount_factor = 0.99\n",
        "        self.learning_rate = 0.001\n",
        "        self.epsilon = 1.0\n",
        "        self.epsilon_decay = 0.995\n",
        "        self.epsilon_min = 0.01\n",
        "        self.batch_size = 32\n",
        "        self.train_start = 1000\n",
        "\n",
        "        # 리플레이 메모리, 최대 크기 2000\n",
        "        self.memory = deque(maxlen=2000)\n",
        "\n",
        "        # 모델과 타깃 모델 생성\n",
        "        self.model = DQN(state_size, action_size)\n",
        "        self.target_model = DQN(state_size, action_size)\n",
        "        self.optimizer = torch.optim.Adam(self.model.parameters(), lr=self.learning_rate)\n",
        "\n",
        "        # 타깃 모델 초기화\n",
        "        self.update_target_model()\n",
        "\n",
        "    # 타깃 모델을 모델의 가중치로 업데이트\n",
        "    def update_target_model(self):\n",
        "        self.target_model.load_state_dict(self.model.state_dict())\n",
        "\n",
        "    # 입실론 탐욕 정책으로 행동 선택\n",
        "    def get_action(self, state):\n",
        "        if np.random.rand() <= self.epsilon:\n",
        "            return random.randrange(self.action_size)\n",
        "        else:\n",
        "            state_tensor = torch.tensor(state, dtype=torch.float32).unsqueeze(0)  # 배치 차원 추가\n",
        "            with torch.no_grad():  # 그래디언트 계산 비활성화\n",
        "                q_value = self.model(state_tensor)\n",
        "            return torch.argmax(q_value).item()  # 최대 Q값에 해당하는 행동 선택\n",
        "\n",
        "    # 샘플 <s, a, r, s'>을 리플레이 메모리에 저장\n",
        "    def append_sample(self, state, action, reward, next_state, done):\n",
        "        self.memory.append((state, action, reward, next_state, done))\n",
        "\n",
        "    # 리플레이 메모리에서 무작위로 추출한 배치로 모델 학습\n",
        "    def train_model(self):\n",
        "        # if self.epsilon > self.epsilon_min:\n",
        "        #     self.epsilon *= self.epsilon_decay\n",
        "        #     self.epsilon = max(self.epsilon, self.epsilon_min)  # epsilon 최소값 유지\n",
        "\n",
        "        if len(self.memory) < self.batch_size:  # 배치 크기보다 작으면 학습하지 않음 # epsilon이 안 줄어드는 문제 해결\n",
        "            return\n",
        "\n",
        "        # 메모리에서 배치 크기만큼 무작위로 샘플 추출\n",
        "        mini_batch = random.sample(self.memory, self.batch_size)\n",
        "        batch = list(zip(*mini_batch)) # 속도 문제 해결\n",
        "\n",
        "        states = torch.stack(batch[0]).reshape(self.batch_size,-1) #(32,3)\n",
        "        actions = torch.tensor(batch[1], dtype=torch.long) #(32,)\n",
        "        rewards = torch.tensor(batch[2], dtype=torch.float32) #(32,)\n",
        "        next_states = torch.stack(batch[3]).reshape(self.batch_size,-1) #(32,3)\n",
        "        dones = torch.tensor(batch[4], dtype=torch.float32) #(32,)\n",
        "        # print(f\"States shape: {states.shape}\")\n",
        "        # print(f\"Actions shape: {actions.shape}\")\n",
        "        # print(f\"Rewards shape: {rewards.shape}\")\n",
        "        # print(f\"Next states shape: {next_states.shape}\")\n",
        "        # print(f\"Dones shape: {dones.shape}\")\n",
        "\n",
        "        # 현재 상태에 대한 모델의 큐함수\n",
        "        predicts = self.model(states)\n",
        "        # print(f\"Predicts shape: {predicts.shape}\")      # (32,3)\n",
        "\n",
        "        # 다음 상태에 대한 타깃 모델의 큐함수\n",
        "        target_predicts = self.target_model(next_states)\n",
        "        target_predicts = target_predicts.detach()  # gradients가 타깃 모델에 영향을 주지 않도록 detach\n",
        "        # print(f\"Target predicts shape: {target_predicts.shape}\")  # (32,3)\n",
        "\n",
        "        # 벨만 최적 방정식을 이용한 업데이트 타깃\n",
        "        max_q,_ = torch.max(target_predicts, dim=1)  # 다음 상태에서의 최대 Q값\n",
        "        #max_q = max_q.unsqueeze(1)\n",
        "        # print(f\"Max Q shape: {max_q.shape}\")           # (32, )\n",
        "        targets = rewards + (1 - dones) * self.discount_factor * max_q\n",
        "        targets = targets.unsqueeze(1)\n",
        "        # print(f\"Targets shape: {targets.shape}\")       # (32,1)\n",
        "\n",
        "        mse = nn.MSELoss()\n",
        "        loss = mse(predicts, targets)\n",
        "        # 오류함수를 줄이는 방향으로 모델 업데이트\n",
        "        self.optimizer.zero_grad()\n",
        "        loss.backward()\n",
        "        self.optimizer.step()"
      ],
      "metadata": {
        "id": "gBo38DIV_Dfy"
      },
      "execution_count": null,
      "outputs": []
    },
    {
      "cell_type": "code",
      "source": [
        "env = LeverEnv()\n",
        "state_size = env.state_size\n",
        "action_size = env.action_size\n",
        "\n",
        "# DQN 에이전트 생성\n",
        "agent = DQNAgent(state_size, action_size)\n",
        "\n",
        "scores, episodes = [], []\n",
        "score_avg = 0\n",
        "\n",
        "num_episode = 500"
      ],
      "metadata": {
        "id": "pjtPCqXyEkVj"
      },
      "execution_count": null,
      "outputs": []
    },
    {
      "cell_type": "code",
      "source": [
        "for e in range(num_episode):\n",
        "        done = False\n",
        "        score = 0\n",
        "        # env 초기화\n",
        "        state = env.reset()\n",
        "        state = torch.tensor(state, dtype=torch.float32).unsqueeze(0)\n",
        "        step_count = 0\n",
        "\n",
        "        while not done:\n",
        "            # if agent.render:\n",
        "            #     env.render()\n",
        "\n",
        "            # 현재 상태로 행동을 선택\n",
        "            action = agent.get_action(state)\n",
        "            # 선택한 행동으로 환경에서 한 타임스텝 진행\n",
        "            next_state, reward, done = env.step(action)\n",
        "            next_state = torch.tensor(next_state, dtype=torch.float32).unsqueeze(0)\n",
        "\n",
        "            score += reward\n",
        "\n",
        "            # 리플레이 메모리에 샘플 <s, a, r, s'> 저장\n",
        "            agent.append_sample(state, action, reward, next_state, done)\n",
        "\n",
        "            # # epsilon 감소 주기 조정(epsilon이 안 줄어들어서 추가!)\n",
        "            # if agent.epsilon > agent.epsilon_min:\n",
        "            #     agent.epsilon *= agent.epsilon_decay\n",
        "            #     agent.epsilon = max(agent.epsilon, agent.epsilon_min) # epsilon_min보다 작아지지 않도록\n",
        "\n",
        "            # 매 4 타임스텝마다 학습\n",
        "            # if len(agent.memory) >= agent.train_start and step_count % 4 == 0:\n",
        "            #     agent.train_model()\n",
        "            agent.train_model()\n",
        "\n",
        "            state = next_state\n",
        "            step_count += 1  # 타임스텝 카운터 증가\n",
        "\n",
        "            if done:\n",
        "                # 매 10 에피소드마다 타깃 모델을 업데이트\n",
        "                if e % 10 == 0:\n",
        "                    agent.update_target_model()\n",
        "\n",
        "                # 에피소드 결과 출력을 10 에피소드마다 한 번씩\n",
        "                if e % 10 == 0:\n",
        "                    score_avg = 0.9 * score_avg + 0.1 * score if score_avg != 0 else score\n",
        "                    print(\"episode: {:3d} | score avg: {:3.2f} | memory length: {:4d} | epsilon: {:.4f}\".format(e, score_avg, len(agent.memory), agent.epsilon))\n",
        "\n",
        "                agent.epsilon = max(agent.epsilon_min, agent.epsilon * agent.epsilon_decay)\n",
        "\n",
        "                # 그래프 업데이트\n",
        "                scores.append(score_avg)\n",
        "                episodes.append(e)\n",
        "                if e % 10 == 0:\n",
        "                    plt.plot(episodes, scores, 'b')\n",
        "                    plt.xlabel(\"episode\")\n",
        "                    plt.ylabel(\"average score\")\n",
        "                    # pylab.savefig(\"./save_graph/graph.png\")"
      ],
      "metadata": {
        "colab": {
          "base_uri": "https://localhost:8080/",
          "height": 1000
        },
        "id": "3F4F7GDmEU51",
        "outputId": "c72161e7-16b4-4dfb-9c46-bb11a50447cd"
      },
      "execution_count": null,
      "outputs": [
        {
          "output_type": "stream",
          "name": "stdout",
          "text": [
            "episode:   0 | score avg: 0.00 | memory length:    1 | epsilon: 1.0000\n",
            "episode:  10 | score avg: 0.00 | memory length:   11 | epsilon: 0.9511\n",
            "episode:  20 | score avg: 0.00 | memory length:   21 | epsilon: 0.9046\n",
            "episode:  30 | score avg: 0.00 | memory length:   31 | epsilon: 0.8604\n",
            "episode:  40 | score avg: -1.00 | memory length:   41 | epsilon: 0.8183\n",
            "episode:  50 | score avg: -0.90 | memory length:   51 | epsilon: 0.7783\n",
            "episode:  60 | score avg: -0.71 | memory length:   61 | epsilon: 0.7403\n",
            "episode:  70 | score avg: -0.64 | memory length:   71 | epsilon: 0.7041\n"
          ]
        },
        {
          "output_type": "stream",
          "name": "stderr",
          "text": [
            "<ipython-input-207-2448c51d4df5>:38: UserWarning: To copy construct from a tensor, it is recommended to use sourceTensor.clone().detach() or sourceTensor.clone().detach().requires_grad_(True), rather than torch.tensor(sourceTensor).\n",
            "  state_tensor = torch.tensor(state, dtype=torch.float32).unsqueeze(0)  # 배치 차원 추가\n"
          ]
        },
        {
          "output_type": "stream",
          "name": "stdout",
          "text": [
            "episode:  80 | score avg: -0.58 | memory length:   81 | epsilon: 0.6696\n",
            "episode:  90 | score avg: -0.52 | memory length:   91 | epsilon: 0.6369\n",
            "episode: 100 | score avg: -0.37 | memory length:  101 | epsilon: 0.6058\n",
            "episode: 110 | score avg: -0.33 | memory length:  111 | epsilon: 0.5762\n",
            "episode: 120 | score avg: -0.30 | memory length:  121 | epsilon: 0.5480\n",
            "episode: 130 | score avg: -0.37 | memory length:  131 | epsilon: 0.5212\n",
            "episode: 140 | score avg: -0.33 | memory length:  141 | epsilon: 0.4957\n",
            "episode: 150 | score avg: -0.40 | memory length:  151 | epsilon: 0.4715\n",
            "episode: 160 | score avg: -0.26 | memory length:  161 | epsilon: 0.4484\n",
            "episode: 170 | score avg: -0.33 | memory length:  171 | epsilon: 0.4265\n",
            "episode: 180 | score avg: -0.40 | memory length:  181 | epsilon: 0.4057\n",
            "episode: 190 | score avg: -0.36 | memory length:  191 | epsilon: 0.3858\n",
            "episode: 200 | score avg: -0.32 | memory length:  201 | epsilon: 0.3670\n",
            "episode: 210 | score avg: -0.29 | memory length:  211 | epsilon: 0.3490\n",
            "episode: 220 | score avg: -0.16 | memory length:  221 | epsilon: 0.3320\n",
            "episode: 230 | score avg: -0.25 | memory length:  231 | epsilon: 0.3157\n",
            "episode: 240 | score avg: -0.12 | memory length:  241 | epsilon: 0.3003\n",
            "episode: 250 | score avg: -0.01 | memory length:  251 | epsilon: 0.2856\n",
            "episode: 260 | score avg: -0.11 | memory length:  261 | epsilon: 0.2716\n",
            "episode: 270 | score avg: 0.00 | memory length:  271 | epsilon: 0.2584\n",
            "episode: 280 | score avg: 0.10 | memory length:  281 | epsilon: 0.2457\n",
            "episode: 290 | score avg: 0.09 | memory length:  291 | epsilon: 0.2337\n",
            "episode: 300 | score avg: 0.08 | memory length:  301 | epsilon: 0.2223\n",
            "episode: 310 | score avg: 0.07 | memory length:  311 | epsilon: 0.2114\n",
            "episode: 320 | score avg: 0.17 | memory length:  321 | epsilon: 0.2011\n",
            "episode: 330 | score avg: 0.15 | memory length:  331 | epsilon: 0.1913\n",
            "episode: 340 | score avg: 0.24 | memory length:  341 | epsilon: 0.1819\n",
            "episode: 350 | score avg: 0.31 | memory length:  351 | epsilon: 0.1730\n",
            "episode: 360 | score avg: 0.38 | memory length:  361 | epsilon: 0.1646\n",
            "episode: 370 | score avg: 0.24 | memory length:  371 | epsilon: 0.1565\n",
            "episode: 380 | score avg: 0.12 | memory length:  381 | epsilon: 0.1489\n",
            "episode: 390 | score avg: 0.01 | memory length:  391 | epsilon: 0.1416\n",
            "episode: 400 | score avg: 0.01 | memory length:  401 | epsilon: 0.1347\n",
            "episode: 410 | score avg: 0.01 | memory length:  411 | epsilon: 0.1281\n",
            "episode: 420 | score avg: 0.00 | memory length:  421 | epsilon: 0.1218\n",
            "episode: 430 | score avg: -0.10 | memory length:  431 | epsilon: 0.1159\n",
            "episode: 440 | score avg: -0.19 | memory length:  441 | epsilon: 0.1102\n",
            "episode: 450 | score avg: -0.27 | memory length:  451 | epsilon: 0.1048\n",
            "episode: 460 | score avg: -0.24 | memory length:  461 | epsilon: 0.0997\n",
            "episode: 470 | score avg: -0.22 | memory length:  471 | epsilon: 0.0948\n",
            "episode: 480 | score avg: -0.19 | memory length:  481 | epsilon: 0.0902\n",
            "episode: 490 | score avg: -0.18 | memory length:  491 | epsilon: 0.0858\n"
          ]
        },
        {
          "output_type": "display_data",
          "data": {
            "text/plain": [
              "<Figure size 640x480 with 1 Axes>"
            ],
            "image/png": "[encoded data removed]"
          },
          "metadata": {}
        }
      ]
    },
    {
      "cell_type": "code",
      "source": [
        "import matplotlib.pyplot as plt\n",
        "\n",
        "def test_agent(agent, env, num_episodes=100):\n",
        "    scores = []\n",
        "    cumulative_scores = []  # 누적 점수를 저장할 리스트\n",
        "    total_score = 0  # 총 점수를 초기화\n",
        "\n",
        "    for e in range(num_episodes):\n",
        "        done = False\n",
        "        score = 0\n",
        "        state = env.reset()\n",
        "        state = torch.tensor(state, dtype=torch.float32).unsqueeze(0)\n",
        "\n",
        "        while not done:\n",
        "            env.render()  # 시각화\n",
        "            action = agent.get_action(state)  # 행동 선택\n",
        "            next_state, reward, done = env.step(action)\n",
        "            next_state = torch.tensor(next_state, dtype=torch.float32).unsqueeze(0)\n",
        "\n",
        "            score += reward  # 점수 누적\n",
        "            state = next_state\n",
        "\n",
        "        total_score += score  # 총 점수에 현재 점수를 추가\n",
        "        scores.append(score)\n",
        "        cumulative_scores.append(total_score)  # 누적 점수 기록\n",
        "        print(f\"Episode: {e + 1}, Score: {score}, Cumulative Score: {total_score}\")\n",
        "\n",
        "    # 테스트 완료 후 그래프 생성\n",
        "    plt.plot(range(1, num_episodes + 1), cumulative_scores, 'b')\n",
        "    plt.xlabel(\"Episode\")\n",
        "    plt.ylabel(\"Cumulative Score\")\n",
        "    plt.title(\"Test Performance over Episodes\")\n",
        "    plt.show()\n",
        "\n",
        "# 호출\n",
        "test_agent(agent, env)"
      ],
      "metadata": {
        "colab": {
          "base_uri": "https://localhost:8080/",
          "height": 1000
        },
        "id": "pF7L7RXnuEjm",
        "outputId": "eaef23b9-4a0e-4845-a7c4-111bce349b38"
      },
      "execution_count": null,
      "outputs": [
        {
          "output_type": "stream",
          "name": "stderr",
          "text": [
            "<ipython-input-207-2448c51d4df5>:38: UserWarning: To copy construct from a tensor, it is recommended to use sourceTensor.clone().detach() or sourceTensor.clone().detach().requires_grad_(True), rather than torch.tensor(sourceTensor).\n",
            "  state_tensor = torch.tensor(state, dtype=torch.float32).unsqueeze(0)  # 배치 차원 추가\n"
          ]
        },
        {
          "output_type": "stream",
          "name": "stdout",
          "text": [
            "Episode: 1, Score: 0, Cumulative Score: 0\n",
            "Episode: 2, Score: 1, Cumulative Score: 1\n",
            "Episode: 3, Score: 1, Cumulative Score: 2\n",
            "Episode: 4, Score: 0, Cumulative Score: 2\n",
            "Episode: 5, Score: 1, Cumulative Score: 3\n",
            "Episode: 6, Score: 1, Cumulative Score: 4\n",
            "Episode: 7, Score: 0, Cumulative Score: 4\n",
            "Episode: 8, Score: 1, Cumulative Score: 5\n",
            "Episode: 9, Score: 0, Cumulative Score: 5\n",
            "Episode: 10, Score: 0, Cumulative Score: 5\n",
            "Episode: 11, Score: 1, Cumulative Score: 6\n",
            "Episode: 12, Score: 1, Cumulative Score: 7\n",
            "Episode: 13, Score: 1, Cumulative Score: 8\n",
            "Episode: 14, Score: 0, Cumulative Score: 8\n",
            "Episode: 15, Score: 1, Cumulative Score: 9\n",
            "Episode: 16, Score: 1, Cumulative Score: 10\n",
            "Episode: 17, Score: 1, Cumulative Score: 11\n",
            "Episode: 18, Score: 0, Cumulative Score: 11\n",
            "Episode: 19, Score: 0, Cumulative Score: 11\n",
            "Episode: 20, Score: 1, Cumulative Score: 12\n",
            "Episode: 21, Score: 1, Cumulative Score: 13\n",
            "Episode: 22, Score: 1, Cumulative Score: 14\n",
            "Episode: 23, Score: 1, Cumulative Score: 15\n",
            "Episode: 24, Score: 1, Cumulative Score: 16\n",
            "Episode: 25, Score: 1, Cumulative Score: 17\n",
            "Episode: 26, Score: 1, Cumulative Score: 18\n",
            "Episode: 27, Score: 1, Cumulative Score: 19\n",
            "Episode: 28, Score: 0, Cumulative Score: 19\n",
            "Episode: 29, Score: 1, Cumulative Score: 20\n",
            "Episode: 30, Score: 1, Cumulative Score: 21\n",
            "Episode: 31, Score: 1, Cumulative Score: 22\n",
            "Episode: 32, Score: 0, Cumulative Score: 22\n",
            "Episode: 33, Score: 0, Cumulative Score: 22\n",
            "Episode: 34, Score: 1, Cumulative Score: 23\n",
            "Episode: 35, Score: 1, Cumulative Score: 24\n",
            "Episode: 36, Score: 1, Cumulative Score: 25\n",
            "Episode: 37, Score: 1, Cumulative Score: 26\n",
            "Episode: 38, Score: 1, Cumulative Score: 27\n",
            "Episode: 39, Score: 0, Cumulative Score: 27\n",
            "Episode: 40, Score: 0, Cumulative Score: 27\n",
            "Episode: 41, Score: 0, Cumulative Score: 27\n",
            "Episode: 42, Score: 1, Cumulative Score: 28\n",
            "Episode: 43, Score: 1, Cumulative Score: 29\n",
            "Episode: 44, Score: 1, Cumulative Score: 30\n",
            "Episode: 45, Score: 0, Cumulative Score: 30\n",
            "Episode: 46, Score: 1, Cumulative Score: 31\n",
            "Episode: 47, Score: 0, Cumulative Score: 31\n",
            "Episode: 48, Score: 0, Cumulative Score: 31\n",
            "Episode: 49, Score: 1, Cumulative Score: 32\n",
            "Episode: 50, Score: 1, Cumulative Score: 33\n",
            "Episode: 51, Score: 1, Cumulative Score: 34\n",
            "Episode: 52, Score: 1, Cumulative Score: 35\n",
            "Episode: 53, Score: 1, Cumulative Score: 36\n",
            "Episode: 54, Score: 1, Cumulative Score: 37\n",
            "Episode: 55, Score: 0, Cumulative Score: 37\n",
            "Episode: 56, Score: 1, Cumulative Score: 38\n",
            "Episode: 57, Score: 1, Cumulative Score: 39\n",
            "Episode: 58, Score: 0, Cumulative Score: 39\n",
            "Episode: 59, Score: 1, Cumulative Score: 40\n",
            "Episode: 60, Score: 0, Cumulative Score: 40\n",
            "Episode: 61, Score: 0, Cumulative Score: 40\n",
            "Episode: 62, Score: 1, Cumulative Score: 41\n",
            "Episode: 63, Score: 1, Cumulative Score: 42\n",
            "Episode: 64, Score: 0, Cumulative Score: 42\n",
            "Episode: 65, Score: 1, Cumulative Score: 43\n",
            "Episode: 66, Score: 1, Cumulative Score: 44\n",
            "Episode: 67, Score: -1, Cumulative Score: 43\n",
            "Episode: 68, Score: 1, Cumulative Score: 44\n",
            "Episode: 69, Score: 0, Cumulative Score: 44\n",
            "Episode: 70, Score: 0, Cumulative Score: 44\n",
            "Episode: 71, Score: 1, Cumulative Score: 45\n",
            "Episode: 72, Score: 0, Cumulative Score: 45\n",
            "Episode: 73, Score: 1, Cumulative Score: 46\n",
            "Episode: 74, Score: 0, Cumulative Score: 46\n",
            "Episode: 75, Score: 1, Cumulative Score: 47\n",
            "Episode: 76, Score: 0, Cumulative Score: 47\n",
            "Episode: 77, Score: 1, Cumulative Score: 48\n",
            "Episode: 78, Score: 1, Cumulative Score: 49\n",
            "Episode: 79, Score: 0, Cumulative Score: 49\n",
            "Episode: 80, Score: 1, Cumulative Score: 50\n",
            "Episode: 81, Score: 1, Cumulative Score: 51\n",
            "Episode: 82, Score: 1, Cumulative Score: 52\n",
            "Episode: 83, Score: 1, Cumulative Score: 53\n",
            "Episode: 84, Score: 1, Cumulative Score: 54\n",
            "Episode: 85, Score: 1, Cumulative Score: 55\n",
            "Episode: 86, Score: 1, Cumulative Score: 56\n",
            "Episode: 87, Score: 1, Cumulative Score: 57\n",
            "Episode: 88, Score: 0, Cumulative Score: 57\n",
            "Episode: 89, Score: 1, Cumulative Score: 58\n",
            "Episode: 90, Score: 0, Cumulative Score: 58\n",
            "Episode: 91, Score: 1, Cumulative Score: 59\n",
            "Episode: 92, Score: -1, Cumulative Score: 58\n",
            "Episode: 93, Score: 1, Cumulative Score: 59\n",
            "Episode: 94, Score: 0, Cumulative Score: 59\n",
            "Episode: 95, Score: 0, Cumulative Score: 59\n",
            "Episode: 96, Score: 1, Cumulative Score: 60\n",
            "Episode: 97, Score: 1, Cumulative Score: 61\n",
            "Episode: 98, Score: 1, Cumulative Score: 62\n",
            "Episode: 99, Score: 0, Cumulative Score: 62\n",
            "Episode: 100, Score: 0, Cumulative Score: 62\n"
          ]
        },
        {
          "output_type": "display_data",
          "data": {
            "text/plain": [
              "<Figure size 640x480 with 1 Axes>"
            ],
            "image/png": "[encoded data removed]"
          },
          "metadata": {}
        }
      ]
    },
    {
      "cell_type": "markdown",
      "source": [
        "1. 내용이 달라지면 한 줄 띄어씀(가독성)\n",
        "2. 주석 1)설명은 위에 2)디버깅 중 확인해야할 부분은 해당 코드 오른쪽에 작성\n",
        "3. 변수명에는 최대한 숫자를 넣지 않음\n",
        "4. 변수명에 _는 하나만 사용\n",
        "5. 변수명에 대소문자를 섞지 않음\n",
        "6. 단계를 최대한 적게 할 것"
      ],
      "metadata": {
        "id": "1VhQkCRt5uxH"
      }
    },
    {
      "cell_type": "code",
      "source": [],
      "metadata": {
        "id": "GIXcMHn6uOwt"
      },
      "execution_count": null,
      "outputs": []
    }
  ]
}