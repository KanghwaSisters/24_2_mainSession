{
  "nbformat": 4,
  "nbformat_minor": 0,
  "metadata": {
    "colab": {
      "provenance": []
    },
    "kernelspec": {
      "name": "python3",
      "display_name": "Python 3"
    },
    "language_info": {
      "name": "python"
    }
  },
  "cells": [
    {
      "cell_type": "markdown",
      "source": [
        "## 시니어"
      ],
      "metadata": {
        "id": "dA0JjKWt18mp"
      }
    },
    {
      "cell_type": "markdown",
      "source": [
        "- DQN 코드 작성 (전에 성능 나왔으면, DDQN 구현)  \n",
        "- 먼저 (5,5)와 같이 작은 사이즈의 환경에서 시작  \n",
        "- 매직넘버 사용 지양  \n",
        "\n"
      ],
      "metadata": {
        "id": "-UEg2buS1_vn"
      }
    },
    {
      "cell_type": "markdown",
      "source": [
        "---  \n"
      ],
      "metadata": {
        "id": "2HJ1koTm3qwJ"
      }
    },
    {
      "cell_type": "markdown",
      "source": [
        "### 1. **작은 사이즈, 적은 지뢰 밀도** 환경에서 학습되는지 확인  "
      ],
      "metadata": {
        "id": "oe65yDZ_3sHs"
      }
    },
    {
      "cell_type": "markdown",
      "source": [
        "### 시니어용 세팅"
      ],
      "metadata": {
        "id": "hXTJe-_B4vuL"
      }
    },
    {
      "cell_type": "code",
      "execution_count": 55,
      "metadata": {
        "colab": {
          "base_uri": "https://localhost:8080/"
        },
        "id": "EvTOcDT8z1B2",
        "outputId": "4a07231d-c59c-4f15-d1a8-5e4a2432a38f"
      },
      "outputs": [
        {
          "output_type": "stream",
          "name": "stdout",
          "text": [
            "fatal: destination path 'DQN_minesweeper' already exists and is not an empty directory.\n"
          ]
        }
      ],
      "source": [
        "! git clone \"https://github.com/KanghwaSisters/DQN_minesweeper.git\""
      ]
    },
    {
      "cell_type": "code",
      "source": [
        "import os\n",
        "os.chdir('/content/DQN_minesweeper/codes/Environment')"
      ],
      "metadata": {
        "id": "p9gcnuUSr6be"
      },
      "execution_count": 56,
      "outputs": []
    },
    {
      "cell_type": "code",
      "source": [
        "! python reward5.py\n",
        "from reward5 import *"
      ],
      "metadata": {
        "id": "yBP_YdvWsE3x"
      },
      "execution_count": 57,
      "outputs": []
    },
    {
      "cell_type": "code",
      "source": [
        "env = MinesweeperEnv(map_size=(5,5),\n",
        "                     n_mines=5,\n",
        "                     rewards={'win':1, 'lose':-1, 'progress':0.3, 'guess':0.3, 'no_progress' : -1},\n",
        "                     dones={'win':True, 'lose':True, 'progress':False, 'guess':False, 'no_progress' : False},\n",
        "                     dim2=True)"
      ],
      "metadata": {
        "id": "DNnwj-jO23E4"
      },
      "execution_count": 58,
      "outputs": []
    },
    {
      "cell_type": "code",
      "source": [],
      "metadata": {
        "id": "RZtJlQeme9pG"
      },
      "execution_count": 58,
      "outputs": []
    },
    {
      "cell_type": "markdown",
      "source": [
        "## 주니어"
      ],
      "metadata": {
        "id": "ByorAZi-42Eu"
      }
    },
    {
      "cell_type": "markdown",
      "source": [
        "1. 레버 환경 만들기  \n",
        "2. 카트폴 예제 -- 속도 개선, 학습 가능하게 만들기  \n",
        "3. 매직 넘버 줄이기\n",
        "4. 중간 중간 디버깅하면서 가기(구현 단위 별로 테스트)"
      ],
      "metadata": {
        "id": "7Jfvc4lq5wgz"
      }
    },
    {
      "cell_type": "markdown",
      "source": [
        "### 1. 레버 환경 만들기"
      ],
      "metadata": {
        "id": "J8NzcPDf66x4"
      }
    },
    {
      "cell_type": "markdown",
      "source": [
        "3개의 레버가 있다.  \n",
        "- 1번 레버를 당겼을 때 바나나가 떨어질 확률이 0.7, 아무 것도 떨어지지 않을 확률이 0.3  \n",
        "- 2번 레버를 당겼을 때 바나나가 떨어질 확률이 0.1, 상한 바나나 껍질만 떨어질 확률이 0.8, 아무 것도 떨어지지 않을 확률이 0.1  \n",
        "- 3번 레버를 당겼을 때 상한 바나나 껍질만 떨어질 확률이 0.5, 아무 것도 떨어지지 않을 확률이 0.5  \n",
        "\n"
      ],
      "metadata": {
        "id": "YIBM-0JC6-b-"
      }
    },
    {
      "cell_type": "markdown",
      "source": [
        "1. 상태를 표현하는 방법   \n",
        "2. 보상 구조 설계  \n",
        "3. 한 번 행동 한 후 초기화하는 걸 전제    \n",
        "4. 환경 로직 설계"
      ],
      "metadata": {
        "id": "9-Es7EwE8tqc"
      }
    },
    {
      "cell_type": "code",
      "source": [
        "import numpy as np\n",
        "import random\n",
        "import matplotlib.pyplot as plt\n",
        "import torch\n",
        "import torch.nn as nn\n",
        "import torch.optim as optim\n",
        "import torch.nn.functional as F\n",
        "from collections import deque"
      ],
      "metadata": {
        "id": "-Le2bG800Ulq"
      },
      "execution_count": 59,
      "outputs": []
    },
    {
      "cell_type": "code",
      "source": [
        "class LeverEnv:\n",
        "    def __init__(self):\n",
        "        self.state_size = 3\n",
        "        self.action_size = 3\n",
        "\n",
        "    def step(self, action):\n",
        "        # action에 맞게 next_state가 변화\n",
        "        # 바나나: [1, 0, 0], 아무 것도 X: [0, 1, 0], 상한 바나나: [0, 0, 1]\n",
        "\n",
        "        done = True\n",
        "\n",
        "        if action == 1:\n",
        "            next_state, reward = self.pull_lever1()\n",
        "        elif action == 2:\n",
        "            next_state, reward = self.pull_lever2()\n",
        "        elif action == 3:\n",
        "            next_state, reward = self.pull_lever3()\n",
        "        else:\n",
        "            next_state, reward = [0, 1, 0], 0 # default case (정확하지 않은 action)\n",
        "\n",
        "        return next_state, reward, done\n",
        "\n",
        "    def reset(self):\n",
        "        state = [0, 0, 0]\n",
        "        return state\n",
        "\n",
        "    def render(self):\n",
        "        if self.next_state == [1, 0, 0]:\n",
        "            print(\"바나나 획득!\")\n",
        "        elif self.next_state == [0, 1, 0]:\n",
        "            print(\"아무 것도 없음.\")\n",
        "        elif self.next_state == [0, 0, 1]:\n",
        "            print(\"상한 바나나 껍질...\")\n",
        "\n",
        "    # if문 간단하게 재작성\n",
        "    def pull_lever1(self):\n",
        "        if np.random.rand() < 0.7:\n",
        "            return [1, 0, 0], 1  # 바나나\n",
        "        return [0, 1, 0], 0  # 아무 것도 X\n",
        "\n",
        "    def pull_lever2(self):\n",
        "        rand = np.random.rand()\n",
        "        if rand < 0.1:\n",
        "            next_state = [0, 1, 0]  # 아무 것도 X\n",
        "            reward = 0\n",
        "        elif rand < 0.9:\n",
        "            next_state = [0, 0, 1]  # 상한 바나나\n",
        "            reward = -5\n",
        "        else:\n",
        "            next_state = [1, 0, 0]  # 바나나\n",
        "            reward = 1\n",
        "        return next_state, reward\n",
        "\n",
        "    def pull_lever3(self):\n",
        "        if np.random.rand() < 0.5:\n",
        "            return [0, 1, 0], 0  # 아무 것도 X\n",
        "        return [0, 0, 1], -5  # 상한 바나나\n"
      ],
      "metadata": {
        "id": "xr5hwLke43Wr"
      },
      "execution_count": 60,
      "outputs": []
    },
    {
      "cell_type": "code",
      "source": [
        "class DQN(nn.Module):\n",
        "    def __init__(self, input_size, action_size):\n",
        "        super(DQN, self).__init__()\n",
        "        self.fc1 = nn.Linear(input_size, 24)\n",
        "        self.fc2 = nn.Linear(24, 24)\n",
        "        self.fc3 = nn.Linear(24, action_size)\n",
        "\n",
        "\n",
        "    def forward(self, x):\n",
        "        x = F.relu(self.fc1(x))\n",
        "        x = F.relu(self.fc2(x))\n",
        "        q = self.fc3(x)\n",
        "        return q"
      ],
      "metadata": {
        "id": "02c7ostxPa6b"
      },
      "execution_count": 61,
      "outputs": []
    },
    {
      "cell_type": "code",
      "source": [
        "class DQNAgent:\n",
        "    def __init__(self, state_size, action_size):\n",
        "        self.render = False\n",
        "\n",
        "        # 상태와 행동의 크기 정의\n",
        "        self.state_size = state_size\n",
        "        self.action_size = action_size\n",
        "\n",
        "        # DQN 하이퍼파라미터\n",
        "        self.gamma = 0.99\n",
        "        self.learning_rate = 0.001\n",
        "        self.epsilon = 1.0\n",
        "        self.epsilon_decay = 0.999\n",
        "        self.epsilon_min = 0.01\n",
        "        self.batch_size = 64\n",
        "        self.train_start = 1000\n",
        "\n",
        "        self.target_update_freq = 10\n",
        "\n",
        "        # 리플레이 메모리, 최대 크기 2000\n",
        "        self.memory = deque(maxlen=2000)\n",
        "\n",
        "        # 모델과 타깃 모델 생성\n",
        "        self.model = DQN(state_size, action_size)\n",
        "        self.target_model = DQN(state_size, action_size)\n",
        "        self.optimizer = optim.Adam(self.model.parameters(), lr=self.learning_rate)\n",
        "        self.criterion = nn.MSELoss()\n",
        "\n",
        "        # 타깃 모델 초기화\n",
        "        self.update_target_model()\n",
        "\n",
        "    # 타깃 모델을 모델의 가중치로 업데이트\n",
        "    def update_target_model(self):\n",
        "        self.target_model.load_state_dict(self.model.state_dict())\n",
        "\n",
        "    # 입실론 탐욕 정책으로 행동 선택\n",
        "    def get_action(self, state):\n",
        "        if np.random.rand() <= self.epsilon:\n",
        "            return random.randrange(self.action_size)\n",
        "\n",
        "        else:\n",
        "            q_value = self.model(state)\n",
        "            return np.argmax(q_value)\n",
        "\n",
        "    # 샘플 <s, a, r, s'>을 리플레이 메모리에 저장\n",
        "    def append_sample(self, state, action, reward, next_state, done):\n",
        "        self.memory.append((state, action, reward, next_state, done))\n",
        "\n",
        "    # 리플레이 메모리에서 무작위로 추출한 배치로 모델 학습\n",
        "    def train_model(self):\n",
        "        if self.epsilon > self.epsilon_min:\n",
        "            self.epsilon *= self.epsilon_decay\n",
        "\n",
        "            mini_batch = random.sample(self.memory, self.batch_size)\n",
        "\n",
        "            states = np.array([sample[0] for sample in mini_batch])\n",
        "            actions = np.array([sample[1] for sample in mini_batch])\n",
        "            rewards = np.array([sample[2] for sample in mini_batch])\n",
        "            next_states = np.array([sample[3] for sample in mini_batch])\n",
        "            dones = np.array([sample[4] for sample in mini_batch])\n",
        "\n",
        "            predicts = self.model(torch.FloatTensor(states))\n",
        "            target_predicts = self.target_model(torch.FloatTensor(next_states))\n",
        "\n",
        "            targets = rewards + (1 - dones) * self.gamma * target_predicts.max(1)[0].detach().numpy()\n",
        "            predicts = predicts.gather(1, torch.LongTensor(actions).unsqueeze(1)).squeeze(1)\n",
        "\n",
        "            # 다음 상태에 대한 타깃 모델의 큐함수\n",
        "            with torch.no_grad():\n",
        "                target_predicts = self.target_model(torch.tensor(next_states, dtype=torch.float32))\n",
        "\n",
        "            # 벨만 최적 방정식을 이용한 업데이트 타깃\n",
        "            max_q = np.amax(target_predicts, dim=1)[0]\n",
        "            targets = torch.tensor(rewards) + (1-torch.tensor(dones, dtype=torch.float32)) * self.gamma * max_q\n",
        "\n",
        "\n",
        "            loss = self.criterion(targets - predicts)\n",
        "            self.optimizer.zero_grad()\n",
        "            loss.backward()\n",
        "            self.optimizer.step()"
      ],
      "metadata": {
        "id": "PmlplX0PPhhV"
      },
      "execution_count": 62,
      "outputs": []
    },
    {
      "cell_type": "code",
      "source": [
        "if __name__ == \"__main__\":\n",
        "    env = LeverEnv()\n",
        "    state_size = env.state_size\n",
        "    action_size = env.action_size\n",
        "\n",
        "    # DQN 에이전트 생성\n",
        "    agent = DQNAgent(state_size, action_size)\n",
        "\n",
        "    scores, episodes = [], []\n",
        "    score_avg = 0\n",
        "\n",
        "    num_episode = 300\n",
        "    for e in range(num_episode):\n",
        "        done = False\n",
        "        score = 0\n",
        "        # env 초기화\n",
        "        state = env.reset()\n",
        "        state = np.reshape(state, [1, state_size]) #?\n",
        "\n",
        "        while not done:\n",
        "            if agent.render:\n",
        "                env.render()\n",
        "\n",
        "            # 현재 상태로 행동을 선택\n",
        "            action = agent.get_action(state)\n",
        "            # 선택한 행동으로 환경에서 한 타임스텝 진행\n",
        "            next_state, reward, done = env.step(action)\n",
        "            next_state = np.reshape(next_state, [1, state_size])\n",
        "\n",
        "            # 타임스텝마다 보상 0.1, 에피소드 중간에 끝나면 -1 보상\n",
        "            score += reward\n",
        "            reward = 0.1 if not done else -1\n",
        "\n",
        "            # 리플레이 메모리에 샘플 <s, a, r, s'> 저장\n",
        "            agent.append_sample(state, action, reward, next_state, done)\n",
        "            # 타임스텝마다 학습\n",
        "            if len(agent.memory) >= agent.train_start:\n",
        "                agent.train_model()\n",
        "\n",
        "            state = next_state\n",
        "\n",
        "            if done:\n",
        "                # 에피소드마다 학습 결과 출력\n",
        "                score_avg = 0.9 * score_avg + 0.1 * score\n",
        "                print(\"episode: {:3d} | score avg: {:3.2f} | memory length: {:4d} | epsilon: {:.4f}\".format(\n",
        "                    e, score, len(agent.memory), agent.epsilon))\n",
        "\n",
        "                if e % agent.target_update_freq == 0:\n",
        "                    agent.update_target_model()\n",
        "\n",
        "                # 에피소드마다 학습 결과 그래프로 저장\n",
        "                scores.append(score_avg)\n",
        "                episodes.append(e)\n",
        "                plt.plot(episodes, scores, 'b')\n",
        "                plt.xlabel('Episode')\n",
        "                plt.ylabel('Average score')\n",
        "\n",
        "                # 평균 점수가 400 이상일 때 종료\n",
        "                if score_avg > 400:\n",
        "                    torch.save(agent.model.state_dict(), \"./save_model/model.pth\")\n",
        "                    break"
      ],
      "metadata": {
        "id": "YQWcmAX_Pr-F",
        "outputId": "244e90c8-7563-411e-b2ad-b209ee1a2a42",
        "colab": {
          "base_uri": "https://localhost:8080/",
          "height": 1000
        }
      },
      "execution_count": 64,
      "outputs": [
        {
          "output_type": "stream",
          "name": "stdout",
          "text": [
            "episode:   0 | score avg: 0.00 | memory length:    1 | epsilon: 1.0000\n",
            "episode:   1 | score avg: 0.00 | memory length:    2 | epsilon: 1.0000\n",
            "episode:   2 | score avg: 0.00 | memory length:    3 | epsilon: 1.0000\n",
            "episode:   3 | score avg: -5.00 | memory length:    4 | epsilon: 1.0000\n",
            "episode:   4 | score avg: 0.00 | memory length:    5 | epsilon: 1.0000\n",
            "episode:   5 | score avg: 0.00 | memory length:    6 | epsilon: 1.0000\n",
            "episode:   6 | score avg: 0.00 | memory length:    7 | epsilon: 1.0000\n",
            "episode:   7 | score avg: 0.00 | memory length:    8 | epsilon: 1.0000\n",
            "episode:   8 | score avg: 1.00 | memory length:    9 | epsilon: 1.0000\n",
            "episode:   9 | score avg: 0.00 | memory length:   10 | epsilon: 1.0000\n",
            "episode:  10 | score avg: -5.00 | memory length:   11 | epsilon: 1.0000\n",
            "episode:  11 | score avg: 1.00 | memory length:   12 | epsilon: 1.0000\n",
            "episode:  12 | score avg: 1.00 | memory length:   13 | epsilon: 1.0000\n",
            "episode:  13 | score avg: 1.00 | memory length:   14 | epsilon: 1.0000\n",
            "episode:  14 | score avg: 1.00 | memory length:   15 | epsilon: 1.0000\n",
            "episode:  15 | score avg: 1.00 | memory length:   16 | epsilon: 1.0000\n",
            "episode:  16 | score avg: -5.00 | memory length:   17 | epsilon: 1.0000\n",
            "episode:  17 | score avg: 0.00 | memory length:   18 | epsilon: 1.0000\n",
            "episode:  18 | score avg: 1.00 | memory length:   19 | epsilon: 1.0000\n",
            "episode:  19 | score avg: 0.00 | memory length:   20 | epsilon: 1.0000\n",
            "episode:  20 | score avg: 0.00 | memory length:   21 | epsilon: 1.0000\n",
            "episode:  21 | score avg: -5.00 | memory length:   22 | epsilon: 1.0000\n",
            "episode:  22 | score avg: -5.00 | memory length:   23 | epsilon: 1.0000\n",
            "episode:  23 | score avg: -5.00 | memory length:   24 | epsilon: 1.0000\n",
            "episode:  24 | score avg: 0.00 | memory length:   25 | epsilon: 1.0000\n",
            "episode:  25 | score avg: -5.00 | memory length:   26 | epsilon: 1.0000\n",
            "episode:  26 | score avg: 0.00 | memory length:   27 | epsilon: 1.0000\n",
            "episode:  27 | score avg: 0.00 | memory length:   28 | epsilon: 1.0000\n",
            "episode:  28 | score avg: 0.00 | memory length:   29 | epsilon: 1.0000\n",
            "episode:  29 | score avg: 1.00 | memory length:   30 | epsilon: 1.0000\n",
            "episode:  30 | score avg: 0.00 | memory length:   31 | epsilon: 1.0000\n",
            "episode:  31 | score avg: -5.00 | memory length:   32 | epsilon: 1.0000\n",
            "episode:  32 | score avg: 0.00 | memory length:   33 | epsilon: 1.0000\n",
            "episode:  33 | score avg: -5.00 | memory length:   34 | epsilon: 1.0000\n",
            "episode:  34 | score avg: 1.00 | memory length:   35 | epsilon: 1.0000\n",
            "episode:  35 | score avg: -5.00 | memory length:   36 | epsilon: 1.0000\n",
            "episode:  36 | score avg: 0.00 | memory length:   37 | epsilon: 1.0000\n",
            "episode:  37 | score avg: 0.00 | memory length:   38 | epsilon: 1.0000\n",
            "episode:  38 | score avg: 0.00 | memory length:   39 | epsilon: 1.0000\n",
            "episode:  39 | score avg: 1.00 | memory length:   40 | epsilon: 1.0000\n",
            "episode:  40 | score avg: -5.00 | memory length:   41 | epsilon: 1.0000\n",
            "episode:  41 | score avg: 0.00 | memory length:   42 | epsilon: 1.0000\n",
            "episode:  42 | score avg: 0.00 | memory length:   43 | epsilon: 1.0000\n",
            "episode:  43 | score avg: 0.00 | memory length:   44 | epsilon: 1.0000\n",
            "episode:  44 | score avg: -5.00 | memory length:   45 | epsilon: 1.0000\n",
            "episode:  45 | score avg: -5.00 | memory length:   46 | epsilon: 1.0000\n",
            "episode:  46 | score avg: 1.00 | memory length:   47 | epsilon: 1.0000\n",
            "episode:  47 | score avg: 1.00 | memory length:   48 | epsilon: 1.0000\n",
            "episode:  48 | score avg: 0.00 | memory length:   49 | epsilon: 1.0000\n",
            "episode:  49 | score avg: 1.00 | memory length:   50 | epsilon: 1.0000\n",
            "episode:  50 | score avg: 1.00 | memory length:   51 | epsilon: 1.0000\n",
            "episode:  51 | score avg: 1.00 | memory length:   52 | epsilon: 1.0000\n",
            "episode:  52 | score avg: -5.00 | memory length:   53 | epsilon: 1.0000\n",
            "episode:  53 | score avg: 0.00 | memory length:   54 | epsilon: 1.0000\n",
            "episode:  54 | score avg: 0.00 | memory length:   55 | epsilon: 1.0000\n",
            "episode:  55 | score avg: 1.00 | memory length:   56 | epsilon: 1.0000\n",
            "episode:  56 | score avg: 1.00 | memory length:   57 | epsilon: 1.0000\n",
            "episode:  57 | score avg: 0.00 | memory length:   58 | epsilon: 1.0000\n",
            "episode:  58 | score avg: 0.00 | memory length:   59 | epsilon: 1.0000\n",
            "episode:  59 | score avg: -5.00 | memory length:   60 | epsilon: 1.0000\n",
            "episode:  60 | score avg: 0.00 | memory length:   61 | epsilon: 1.0000\n",
            "episode:  61 | score avg: 1.00 | memory length:   62 | epsilon: 1.0000\n",
            "episode:  62 | score avg: 1.00 | memory length:   63 | epsilon: 1.0000\n",
            "episode:  63 | score avg: 1.00 | memory length:   64 | epsilon: 1.0000\n",
            "episode:  64 | score avg: -5.00 | memory length:   65 | epsilon: 1.0000\n",
            "episode:  65 | score avg: 0.00 | memory length:   66 | epsilon: 1.0000\n",
            "episode:  66 | score avg: 0.00 | memory length:   67 | epsilon: 1.0000\n",
            "episode:  67 | score avg: 1.00 | memory length:   68 | epsilon: 1.0000\n",
            "episode:  68 | score avg: 1.00 | memory length:   69 | epsilon: 1.0000\n",
            "episode:  69 | score avg: 1.00 | memory length:   70 | epsilon: 1.0000\n",
            "episode:  70 | score avg: 0.00 | memory length:   71 | epsilon: 1.0000\n",
            "episode:  71 | score avg: 1.00 | memory length:   72 | epsilon: 1.0000\n",
            "episode:  72 | score avg: 0.00 | memory length:   73 | epsilon: 1.0000\n",
            "episode:  73 | score avg: -5.00 | memory length:   74 | epsilon: 1.0000\n",
            "episode:  74 | score avg: 0.00 | memory length:   75 | epsilon: 1.0000\n",
            "episode:  75 | score avg: 1.00 | memory length:   76 | epsilon: 1.0000\n",
            "episode:  76 | score avg: 0.00 | memory length:   77 | epsilon: 1.0000\n",
            "episode:  77 | score avg: 1.00 | memory length:   78 | epsilon: 1.0000\n",
            "episode:  78 | score avg: -5.00 | memory length:   79 | epsilon: 1.0000\n",
            "episode:  79 | score avg: 0.00 | memory length:   80 | epsilon: 1.0000\n",
            "episode:  80 | score avg: 0.00 | memory length:   81 | epsilon: 1.0000\n",
            "episode:  81 | score avg: 1.00 | memory length:   82 | epsilon: 1.0000\n",
            "episode:  82 | score avg: 0.00 | memory length:   83 | epsilon: 1.0000\n",
            "episode:  83 | score avg: 0.00 | memory length:   84 | epsilon: 1.0000\n",
            "episode:  84 | score avg: -5.00 | memory length:   85 | epsilon: 1.0000\n",
            "episode:  85 | score avg: 0.00 | memory length:   86 | epsilon: 1.0000\n",
            "episode:  86 | score avg: -5.00 | memory length:   87 | epsilon: 1.0000\n",
            "episode:  87 | score avg: 0.00 | memory length:   88 | epsilon: 1.0000\n",
            "episode:  88 | score avg: 1.00 | memory length:   89 | epsilon: 1.0000\n",
            "episode:  89 | score avg: 0.00 | memory length:   90 | epsilon: 1.0000\n",
            "episode:  90 | score avg: 1.00 | memory length:   91 | epsilon: 1.0000\n",
            "episode:  91 | score avg: 1.00 | memory length:   92 | epsilon: 1.0000\n",
            "episode:  92 | score avg: 0.00 | memory length:   93 | epsilon: 1.0000\n",
            "episode:  93 | score avg: -5.00 | memory length:   94 | epsilon: 1.0000\n",
            "episode:  94 | score avg: 1.00 | memory length:   95 | epsilon: 1.0000\n",
            "episode:  95 | score avg: 1.00 | memory length:   96 | epsilon: 1.0000\n",
            "episode:  96 | score avg: 1.00 | memory length:   97 | epsilon: 1.0000\n",
            "episode:  97 | score avg: 0.00 | memory length:   98 | epsilon: 1.0000\n",
            "episode:  98 | score avg: -5.00 | memory length:   99 | epsilon: 1.0000\n",
            "episode:  99 | score avg: 0.00 | memory length:  100 | epsilon: 1.0000\n",
            "episode: 100 | score avg: 0.00 | memory length:  101 | epsilon: 1.0000\n",
            "episode: 101 | score avg: -5.00 | memory length:  102 | epsilon: 1.0000\n",
            "episode: 102 | score avg: 0.00 | memory length:  103 | epsilon: 1.0000\n",
            "episode: 103 | score avg: 0.00 | memory length:  104 | epsilon: 1.0000\n",
            "episode: 104 | score avg: 0.00 | memory length:  105 | epsilon: 1.0000\n",
            "episode: 105 | score avg: 0.00 | memory length:  106 | epsilon: 1.0000\n",
            "episode: 106 | score avg: -5.00 | memory length:  107 | epsilon: 1.0000\n",
            "episode: 107 | score avg: 1.00 | memory length:  108 | epsilon: 1.0000\n",
            "episode: 108 | score avg: -5.00 | memory length:  109 | epsilon: 1.0000\n",
            "episode: 109 | score avg: 0.00 | memory length:  110 | epsilon: 1.0000\n",
            "episode: 110 | score avg: 0.00 | memory length:  111 | epsilon: 1.0000\n",
            "episode: 111 | score avg: 0.00 | memory length:  112 | epsilon: 1.0000\n",
            "episode: 112 | score avg: 0.00 | memory length:  113 | epsilon: 1.0000\n",
            "episode: 113 | score avg: -5.00 | memory length:  114 | epsilon: 1.0000\n",
            "episode: 114 | score avg: -5.00 | memory length:  115 | epsilon: 1.0000\n",
            "episode: 115 | score avg: 1.00 | memory length:  116 | epsilon: 1.0000\n",
            "episode: 116 | score avg: 0.00 | memory length:  117 | epsilon: 1.0000\n",
            "episode: 117 | score avg: -5.00 | memory length:  118 | epsilon: 1.0000\n",
            "episode: 118 | score avg: 0.00 | memory length:  119 | epsilon: 1.0000\n",
            "episode: 119 | score avg: 0.00 | memory length:  120 | epsilon: 1.0000\n",
            "episode: 120 | score avg: 0.00 | memory length:  121 | epsilon: 1.0000\n",
            "episode: 121 | score avg: 0.00 | memory length:  122 | epsilon: 1.0000\n",
            "episode: 122 | score avg: -5.00 | memory length:  123 | epsilon: 1.0000\n",
            "episode: 123 | score avg: -5.00 | memory length:  124 | epsilon: 1.0000\n",
            "episode: 124 | score avg: 1.00 | memory length:  125 | epsilon: 1.0000\n",
            "episode: 125 | score avg: 0.00 | memory length:  126 | epsilon: 1.0000\n",
            "episode: 126 | score avg: 0.00 | memory length:  127 | epsilon: 1.0000\n",
            "episode: 127 | score avg: 0.00 | memory length:  128 | epsilon: 1.0000\n",
            "episode: 128 | score avg: -5.00 | memory length:  129 | epsilon: 1.0000\n",
            "episode: 129 | score avg: 0.00 | memory length:  130 | epsilon: 1.0000\n",
            "episode: 130 | score avg: 0.00 | memory length:  131 | epsilon: 1.0000\n",
            "episode: 131 | score avg: 0.00 | memory length:  132 | epsilon: 1.0000\n",
            "episode: 132 | score avg: 0.00 | memory length:  133 | epsilon: 1.0000\n",
            "episode: 133 | score avg: 0.00 | memory length:  134 | epsilon: 1.0000\n",
            "episode: 134 | score avg: 1.00 | memory length:  135 | epsilon: 1.0000\n",
            "episode: 135 | score avg: 0.00 | memory length:  136 | epsilon: 1.0000\n",
            "episode: 136 | score avg: 0.00 | memory length:  137 | epsilon: 1.0000\n",
            "episode: 137 | score avg: 0.00 | memory length:  138 | epsilon: 1.0000\n",
            "episode: 138 | score avg: 1.00 | memory length:  139 | epsilon: 1.0000\n",
            "episode: 139 | score avg: 0.00 | memory length:  140 | epsilon: 1.0000\n",
            "episode: 140 | score avg: -5.00 | memory length:  141 | epsilon: 1.0000\n",
            "episode: 141 | score avg: 0.00 | memory length:  142 | epsilon: 1.0000\n",
            "episode: 142 | score avg: -5.00 | memory length:  143 | epsilon: 1.0000\n",
            "episode: 143 | score avg: 0.00 | memory length:  144 | epsilon: 1.0000\n",
            "episode: 144 | score avg: -5.00 | memory length:  145 | epsilon: 1.0000\n",
            "episode: 145 | score avg: 0.00 | memory length:  146 | epsilon: 1.0000\n",
            "episode: 146 | score avg: -5.00 | memory length:  147 | epsilon: 1.0000\n",
            "episode: 147 | score avg: 1.00 | memory length:  148 | epsilon: 1.0000\n",
            "episode: 148 | score avg: -5.00 | memory length:  149 | epsilon: 1.0000\n",
            "episode: 149 | score avg: 0.00 | memory length:  150 | epsilon: 1.0000\n",
            "episode: 150 | score avg: 1.00 | memory length:  151 | epsilon: 1.0000\n",
            "episode: 151 | score avg: 1.00 | memory length:  152 | epsilon: 1.0000\n",
            "episode: 152 | score avg: 0.00 | memory length:  153 | epsilon: 1.0000\n",
            "episode: 153 | score avg: 0.00 | memory length:  154 | epsilon: 1.0000\n",
            "episode: 154 | score avg: 0.00 | memory length:  155 | epsilon: 1.0000\n",
            "episode: 155 | score avg: 0.00 | memory length:  156 | epsilon: 1.0000\n",
            "episode: 156 | score avg: 0.00 | memory length:  157 | epsilon: 1.0000\n",
            "episode: 157 | score avg: 0.00 | memory length:  158 | epsilon: 1.0000\n",
            "episode: 158 | score avg: -5.00 | memory length:  159 | epsilon: 1.0000\n",
            "episode: 159 | score avg: -5.00 | memory length:  160 | epsilon: 1.0000\n",
            "episode: 160 | score avg: 1.00 | memory length:  161 | epsilon: 1.0000\n",
            "episode: 161 | score avg: 0.00 | memory length:  162 | epsilon: 1.0000\n",
            "episode: 162 | score avg: 0.00 | memory length:  163 | epsilon: 1.0000\n",
            "episode: 163 | score avg: 0.00 | memory length:  164 | epsilon: 1.0000\n",
            "episode: 164 | score avg: -5.00 | memory length:  165 | epsilon: 1.0000\n",
            "episode: 165 | score avg: -5.00 | memory length:  166 | epsilon: 1.0000\n",
            "episode: 166 | score avg: 1.00 | memory length:  167 | epsilon: 1.0000\n",
            "episode: 167 | score avg: 0.00 | memory length:  168 | epsilon: 1.0000\n",
            "episode: 168 | score avg: 1.00 | memory length:  169 | epsilon: 1.0000\n",
            "episode: 169 | score avg: 0.00 | memory length:  170 | epsilon: 1.0000\n",
            "episode: 170 | score avg: -5.00 | memory length:  171 | epsilon: 1.0000\n",
            "episode: 171 | score avg: 0.00 | memory length:  172 | epsilon: 1.0000\n",
            "episode: 172 | score avg: 0.00 | memory length:  173 | epsilon: 1.0000\n",
            "episode: 173 | score avg: 0.00 | memory length:  174 | epsilon: 1.0000\n",
            "episode: 174 | score avg: -5.00 | memory length:  175 | epsilon: 1.0000\n",
            "episode: 175 | score avg: 1.00 | memory length:  176 | epsilon: 1.0000\n",
            "episode: 176 | score avg: 0.00 | memory length:  177 | epsilon: 1.0000\n",
            "episode: 177 | score avg: 0.00 | memory length:  178 | epsilon: 1.0000\n",
            "episode: 178 | score avg: -5.00 | memory length:  179 | epsilon: 1.0000\n",
            "episode: 179 | score avg: 1.00 | memory length:  180 | epsilon: 1.0000\n",
            "episode: 180 | score avg: 1.00 | memory length:  181 | epsilon: 1.0000\n",
            "episode: 181 | score avg: 1.00 | memory length:  182 | epsilon: 1.0000\n",
            "episode: 182 | score avg: 0.00 | memory length:  183 | epsilon: 1.0000\n",
            "episode: 183 | score avg: 0.00 | memory length:  184 | epsilon: 1.0000\n",
            "episode: 184 | score avg: 1.00 | memory length:  185 | epsilon: 1.0000\n",
            "episode: 185 | score avg: 1.00 | memory length:  186 | epsilon: 1.0000\n",
            "episode: 186 | score avg: 0.00 | memory length:  187 | epsilon: 1.0000\n",
            "episode: 187 | score avg: 1.00 | memory length:  188 | epsilon: 1.0000\n",
            "episode: 188 | score avg: -5.00 | memory length:  189 | epsilon: 1.0000\n",
            "episode: 189 | score avg: 0.00 | memory length:  190 | epsilon: 1.0000\n",
            "episode: 190 | score avg: 1.00 | memory length:  191 | epsilon: 1.0000\n",
            "episode: 191 | score avg: -5.00 | memory length:  192 | epsilon: 1.0000\n",
            "episode: 192 | score avg: 0.00 | memory length:  193 | epsilon: 1.0000\n",
            "episode: 193 | score avg: 0.00 | memory length:  194 | epsilon: 1.0000\n",
            "episode: 194 | score avg: 0.00 | memory length:  195 | epsilon: 1.0000\n",
            "episode: 195 | score avg: -5.00 | memory length:  196 | epsilon: 1.0000\n",
            "episode: 196 | score avg: 1.00 | memory length:  197 | epsilon: 1.0000\n",
            "episode: 197 | score avg: 0.00 | memory length:  198 | epsilon: 1.0000\n",
            "episode: 198 | score avg: 0.00 | memory length:  199 | epsilon: 1.0000\n",
            "episode: 199 | score avg: 0.00 | memory length:  200 | epsilon: 1.0000\n",
            "episode: 200 | score avg: 0.00 | memory length:  201 | epsilon: 1.0000\n",
            "episode: 201 | score avg: -5.00 | memory length:  202 | epsilon: 1.0000\n",
            "episode: 202 | score avg: 0.00 | memory length:  203 | epsilon: 1.0000\n",
            "episode: 203 | score avg: 1.00 | memory length:  204 | epsilon: 1.0000\n",
            "episode: 204 | score avg: 0.00 | memory length:  205 | epsilon: 1.0000\n",
            "episode: 205 | score avg: -5.00 | memory length:  206 | epsilon: 1.0000\n",
            "episode: 206 | score avg: 0.00 | memory length:  207 | epsilon: 1.0000\n",
            "episode: 207 | score avg: -5.00 | memory length:  208 | epsilon: 1.0000\n",
            "episode: 208 | score avg: 1.00 | memory length:  209 | epsilon: 1.0000\n",
            "episode: 209 | score avg: 1.00 | memory length:  210 | epsilon: 1.0000\n",
            "episode: 210 | score avg: 0.00 | memory length:  211 | epsilon: 1.0000\n",
            "episode: 211 | score avg: 1.00 | memory length:  212 | epsilon: 1.0000\n",
            "episode: 212 | score avg: 0.00 | memory length:  213 | epsilon: 1.0000\n",
            "episode: 213 | score avg: 1.00 | memory length:  214 | epsilon: 1.0000\n",
            "episode: 214 | score avg: -5.00 | memory length:  215 | epsilon: 1.0000\n",
            "episode: 215 | score avg: 1.00 | memory length:  216 | epsilon: 1.0000\n",
            "episode: 216 | score avg: -5.00 | memory length:  217 | epsilon: 1.0000\n",
            "episode: 217 | score avg: 0.00 | memory length:  218 | epsilon: 1.0000\n",
            "episode: 218 | score avg: -5.00 | memory length:  219 | epsilon: 1.0000\n",
            "episode: 219 | score avg: -5.00 | memory length:  220 | epsilon: 1.0000\n",
            "episode: 220 | score avg: 0.00 | memory length:  221 | epsilon: 1.0000\n",
            "episode: 221 | score avg: 0.00 | memory length:  222 | epsilon: 1.0000\n",
            "episode: 222 | score avg: 0.00 | memory length:  223 | epsilon: 1.0000\n",
            "episode: 223 | score avg: 0.00 | memory length:  224 | epsilon: 1.0000\n",
            "episode: 224 | score avg: 0.00 | memory length:  225 | epsilon: 1.0000\n",
            "episode: 225 | score avg: -5.00 | memory length:  226 | epsilon: 1.0000\n",
            "episode: 226 | score avg: 0.00 | memory length:  227 | epsilon: 1.0000\n",
            "episode: 227 | score avg: 0.00 | memory length:  228 | epsilon: 1.0000\n",
            "episode: 228 | score avg: -5.00 | memory length:  229 | epsilon: 1.0000\n",
            "episode: 229 | score avg: -5.00 | memory length:  230 | epsilon: 1.0000\n",
            "episode: 230 | score avg: 1.00 | memory length:  231 | epsilon: 1.0000\n",
            "episode: 231 | score avg: -5.00 | memory length:  232 | epsilon: 1.0000\n",
            "episode: 232 | score avg: 0.00 | memory length:  233 | epsilon: 1.0000\n",
            "episode: 233 | score avg: 0.00 | memory length:  234 | epsilon: 1.0000\n",
            "episode: 234 | score avg: 1.00 | memory length:  235 | epsilon: 1.0000\n",
            "episode: 235 | score avg: 1.00 | memory length:  236 | epsilon: 1.0000\n",
            "episode: 236 | score avg: 1.00 | memory length:  237 | epsilon: 1.0000\n",
            "episode: 237 | score avg: 0.00 | memory length:  238 | epsilon: 1.0000\n",
            "episode: 238 | score avg: 0.00 | memory length:  239 | epsilon: 1.0000\n",
            "episode: 239 | score avg: 0.00 | memory length:  240 | epsilon: 1.0000\n",
            "episode: 240 | score avg: -5.00 | memory length:  241 | epsilon: 1.0000\n",
            "episode: 241 | score avg: 0.00 | memory length:  242 | epsilon: 1.0000\n",
            "episode: 242 | score avg: -5.00 | memory length:  243 | epsilon: 1.0000\n",
            "episode: 243 | score avg: -5.00 | memory length:  244 | epsilon: 1.0000\n",
            "episode: 244 | score avg: 1.00 | memory length:  245 | epsilon: 1.0000\n",
            "episode: 245 | score avg: 0.00 | memory length:  246 | epsilon: 1.0000\n",
            "episode: 246 | score avg: 1.00 | memory length:  247 | epsilon: 1.0000\n",
            "episode: 247 | score avg: 0.00 | memory length:  248 | epsilon: 1.0000\n",
            "episode: 248 | score avg: 0.00 | memory length:  249 | epsilon: 1.0000\n",
            "episode: 249 | score avg: 0.00 | memory length:  250 | epsilon: 1.0000\n",
            "episode: 250 | score avg: -5.00 | memory length:  251 | epsilon: 1.0000\n",
            "episode: 251 | score avg: 0.00 | memory length:  252 | epsilon: 1.0000\n",
            "episode: 252 | score avg: 0.00 | memory length:  253 | epsilon: 1.0000\n",
            "episode: 253 | score avg: 0.00 | memory length:  254 | epsilon: 1.0000\n",
            "episode: 254 | score avg: -5.00 | memory length:  255 | epsilon: 1.0000\n",
            "episode: 255 | score avg: -5.00 | memory length:  256 | epsilon: 1.0000\n",
            "episode: 256 | score avg: 1.00 | memory length:  257 | epsilon: 1.0000\n",
            "episode: 257 | score avg: 1.00 | memory length:  258 | epsilon: 1.0000\n",
            "episode: 258 | score avg: -5.00 | memory length:  259 | epsilon: 1.0000\n",
            "episode: 259 | score avg: 0.00 | memory length:  260 | epsilon: 1.0000\n",
            "episode: 260 | score avg: -5.00 | memory length:  261 | epsilon: 1.0000\n",
            "episode: 261 | score avg: 0.00 | memory length:  262 | epsilon: 1.0000\n",
            "episode: 262 | score avg: 1.00 | memory length:  263 | epsilon: 1.0000\n",
            "episode: 263 | score avg: 0.00 | memory length:  264 | epsilon: 1.0000\n",
            "episode: 264 | score avg: 0.00 | memory length:  265 | epsilon: 1.0000\n",
            "episode: 265 | score avg: 1.00 | memory length:  266 | epsilon: 1.0000\n",
            "episode: 266 | score avg: -5.00 | memory length:  267 | epsilon: 1.0000\n",
            "episode: 267 | score avg: 0.00 | memory length:  268 | epsilon: 1.0000\n",
            "episode: 268 | score avg: 0.00 | memory length:  269 | epsilon: 1.0000\n",
            "episode: 269 | score avg: 1.00 | memory length:  270 | epsilon: 1.0000\n",
            "episode: 270 | score avg: 1.00 | memory length:  271 | epsilon: 1.0000\n",
            "episode: 271 | score avg: 0.00 | memory length:  272 | epsilon: 1.0000\n",
            "episode: 272 | score avg: 1.00 | memory length:  273 | epsilon: 1.0000\n",
            "episode: 273 | score avg: 1.00 | memory length:  274 | epsilon: 1.0000\n",
            "episode: 274 | score avg: -5.00 | memory length:  275 | epsilon: 1.0000\n",
            "episode: 275 | score avg: 0.00 | memory length:  276 | epsilon: 1.0000\n",
            "episode: 276 | score avg: 1.00 | memory length:  277 | epsilon: 1.0000\n",
            "episode: 277 | score avg: -5.00 | memory length:  278 | epsilon: 1.0000\n",
            "episode: 278 | score avg: -5.00 | memory length:  279 | epsilon: 1.0000\n",
            "episode: 279 | score avg: -5.00 | memory length:  280 | epsilon: 1.0000\n",
            "episode: 280 | score avg: 0.00 | memory length:  281 | epsilon: 1.0000\n",
            "episode: 281 | score avg: 0.00 | memory length:  282 | epsilon: 1.0000\n",
            "episode: 282 | score avg: 0.00 | memory length:  283 | epsilon: 1.0000\n",
            "episode: 283 | score avg: 0.00 | memory length:  284 | epsilon: 1.0000\n",
            "episode: 284 | score avg: 0.00 | memory length:  285 | epsilon: 1.0000\n",
            "episode: 285 | score avg: 0.00 | memory length:  286 | epsilon: 1.0000\n",
            "episode: 286 | score avg: -5.00 | memory length:  287 | epsilon: 1.0000\n",
            "episode: 287 | score avg: -5.00 | memory length:  288 | epsilon: 1.0000\n",
            "episode: 288 | score avg: 0.00 | memory length:  289 | epsilon: 1.0000\n",
            "episode: 289 | score avg: 0.00 | memory length:  290 | epsilon: 1.0000\n",
            "episode: 290 | score avg: 1.00 | memory length:  291 | epsilon: 1.0000\n",
            "episode: 291 | score avg: -5.00 | memory length:  292 | epsilon: 1.0000\n",
            "episode: 292 | score avg: 0.00 | memory length:  293 | epsilon: 1.0000\n",
            "episode: 293 | score avg: 0.00 | memory length:  294 | epsilon: 1.0000\n",
            "episode: 294 | score avg: 0.00 | memory length:  295 | epsilon: 1.0000\n",
            "episode: 295 | score avg: 0.00 | memory length:  296 | epsilon: 1.0000\n",
            "episode: 296 | score avg: 0.00 | memory length:  297 | epsilon: 1.0000\n",
            "episode: 297 | score avg: -5.00 | memory length:  298 | epsilon: 1.0000\n",
            "episode: 298 | score avg: 1.00 | memory length:  299 | epsilon: 1.0000\n",
            "episode: 299 | score avg: 0.00 | memory length:  300 | epsilon: 1.0000\n"
          ]
        },
        {
          "output_type": "display_data",
          "data": {
            "text/plain": [
              "<Figure size 640x480 with 1 Axes>"
            ],
            "image/png": "[encoded data removed]"
          },
          "metadata": {}
        }
      ]
    },
    {
      "cell_type": "markdown",
      "source": [
        "## 과제\n",
        "1. 완성해오기(설명가능한 상태로 ipynb 파일 구성)    \n",
        "2. 알파제로 구조 공부해오기(전원)  \n",
        "3. 자기 코드 규칙 정리해오기"
      ],
      "metadata": {
        "id": "WyHQdX1W91iN"
      }
    }
  ]
}